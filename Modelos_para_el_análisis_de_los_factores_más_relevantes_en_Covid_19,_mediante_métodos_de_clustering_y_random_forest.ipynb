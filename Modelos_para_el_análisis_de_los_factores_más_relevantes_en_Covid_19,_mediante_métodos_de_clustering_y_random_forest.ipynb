{
  "nbformat": 4,
  "nbformat_minor": 0,
  "metadata": {
    "colab": {
      "name": "Modelos para el análisis de los factores más relevantes en Covid-19, mediante métodos de clustering y random forest",
      "provenance": [],
      "collapsed_sections": [],
      "toc_visible": true
    },
    "kernelspec": {
      "name": "python3",
      "display_name": "Python 3"
    }
  },
  "cells": [
    {
      "cell_type": "markdown",
      "metadata": {
        "id": "vPXKRaYAHNv4",
        "colab_type": "text"
      },
      "source": [
        "\n",
        "\n",
        "#   **DESARROLLO DE UN MODELO DE MACHINE LEARNING**"
      ]
    },
    {
      "cell_type": "markdown",
      "metadata": {
        "id": "D7_sY_eBIld8",
        "colab_type": "text"
      },
      "source": [
        "## Proceso"
      ]
    },
    {
      "cell_type": "markdown",
      "metadata": {
        "id": "FMVqhZ5cIrvW",
        "colab_type": "text"
      },
      "source": [
        "### Seleccionamos un tema de interes\n",
        "El tema de este proyecto se centra en el tratamiento de un dataset, el cual contiene datos sobre los pacientes de covid-19 en el Ecuador. Se intenta mejorar o optimizar los resultados de una investigacion previamente desarrollada sobre el mismo tema."
      ]
    },
    {
      "cell_type": "markdown",
      "metadata": {
        "id": "ahx9d71VJarB",
        "colab_type": "text"
      },
      "source": [
        "### Buscamos un artículo de base referente al tema: \n",
        "\n",
        "Articulo: https://revistas.unal.edu.co/index.php/revfacmed/article/view/86476\n",
        "\n",
        "Dentro del paper anterior se observa la utilizacion de metodos correspondientes al modelo de probabilidad\n",
        "discreta de Poisson.\n",
        "Haciendo uso de una base de datos con la cual analizaron todos\n",
        "los casos de COVID-19 confirmados oficialmente en Ecuador entre el 13 de marzo y el 2 de abril de 2020. "
      ]
    },
    {
      "cell_type": "markdown",
      "metadata": {
        "id": "6hzQE67HK69i",
        "colab_type": "text"
      },
      "source": [
        "### Buscamos y cargamos un dataset\n",
        "\n",
        "Se utilizo un dataset basado en el articulo base encontrado, el cual nos muestra un analisis de los sintomas y enfermedades de algunos pacientes, para calcular la cantidad de personas contagiadas dentro de una region:\n",
        "\n",
        "Dataset: https://dataverse.harvard.edu/dataset.xhtml?persistentId=doi:10.7910/DVN/LQDFSE"
      ]
    },
    {
      "cell_type": "markdown",
      "metadata": {
        "id": "A84RMYqqLvuv",
        "colab_type": "text"
      },
      "source": [
        "### Desarrollamos el procesamiento de datos"
      ]
    },
    {
      "cell_type": "code",
      "metadata": {
        "id": "vJb-_3X2677c",
        "colab_type": "code",
        "colab": {
          "base_uri": "https://localhost:8080/",
          "height": 70
        },
        "outputId": "535f94a4-1c7d-4eb0-c055-64356cca87c3"
      },
      "source": [
        "#Importamos todas las librerias que utilizaremos en el programa\n",
        "import pandas as pd\n",
        "import numpy as np\n",
        "import matplotlib.pyplot as plt\n",
        "import csv\n",
        "import math\n",
        "import keras\n",
        "import seaborn as sns\n",
        "from timeit import timeit\n",
        "from sklearn.datasets import load_digits\n",
        "from sklearn.cluster import KMeans\n",
        "from sklearn.preprocessing import OneHotEncoder, StandardScaler\n",
        "from sklearn.compose import make_column_transformer, ColumnTransformer\n",
        "from sklearn import metrics\n",
        "from sklearn.decomposition import PCA\n",
        "from sklearn import datasets\n",
        "from sklearn.cluster import KMeans\n",
        "from sklearn.metrics import accuracy_score\n",
        "from sklearn.metrics import  confusion_matrix\n",
        "from sklearn.model_selection import GridSearchCV\n",
        "from sklearn.ensemble import RandomForestClassifier\n",
        "from sklearn.model_selection import train_test_split\n",
        "from scipy.spatial.distance import cdist\n",
        "from timeit import default_timer\n",
        "from keras.layers import Dense\n",
        "from keras.models import Sequential\n",
        "from mpl_toolkits.mplot3d import Axes3D\n",
        "\n"
      ],
      "execution_count": null,
      "outputs": [
        {
          "output_type": "stream",
          "text": [
            "/usr/local/lib/python3.6/dist-packages/statsmodels/tools/_testing.py:19: FutureWarning: pandas.util.testing is deprecated. Use the functions in the public API at pandas.testing instead.\n",
            "  import pandas.util.testing as tm\n"
          ],
          "name": "stderr"
        }
      ]
    },
    {
      "cell_type": "code",
      "metadata": {
        "id": "gOAKrptW6-kQ",
        "colab_type": "code",
        "colab": {
          "base_uri": "https://localhost:8080/",
          "height": 316
        },
        "outputId": "02bfb8c1-a9f6-4f9f-fa00-b4b6e3a57e7a"
      },
      "source": [
        "#Realizamos la carga del dataset, asignandole a cada columna sus respectivas etiquetas\n",
        "#dataset = \"2.COVID19_clasificacion.xlsx\"\n",
        "\n",
        "dataset = '2.COVID19_clasificacion.xlsx'\n",
        "col = ['Number','Age','Gender','Fever','Dyspnea','Nasal','Cough','PO2','CRP','Asthenia','Leukopenia','Exposicion_Covid19_paciente',\n",
        "       'High_risk_zone','Temperatura','Blood Test','PT-PCR','History','Label']\n",
        "df = pd.read_excel(dataset, names=col)\n",
        "df = df.iloc[1:]\n",
        "df.head()"
      ],
      "execution_count": null,
      "outputs": [
        {
          "output_type": "execute_result",
          "data": {
            "text/html": [
              "<div>\n",
              "<style scoped>\n",
              "    .dataframe tbody tr th:only-of-type {\n",
              "        vertical-align: middle;\n",
              "    }\n",
              "\n",
              "    .dataframe tbody tr th {\n",
              "        vertical-align: top;\n",
              "    }\n",
              "\n",
              "    .dataframe thead th {\n",
              "        text-align: right;\n",
              "    }\n",
              "</style>\n",
              "<table border=\"1\" class=\"dataframe\">\n",
              "  <thead>\n",
              "    <tr style=\"text-align: right;\">\n",
              "      <th></th>\n",
              "      <th>Number</th>\n",
              "      <th>Age</th>\n",
              "      <th>Gender</th>\n",
              "      <th>Fever</th>\n",
              "      <th>Dyspnea</th>\n",
              "      <th>Nasal</th>\n",
              "      <th>Cough</th>\n",
              "      <th>PO2</th>\n",
              "      <th>CRP</th>\n",
              "      <th>Asthenia</th>\n",
              "      <th>Leukopenia</th>\n",
              "      <th>Exposicion_Covid19_paciente</th>\n",
              "      <th>High_risk_zone</th>\n",
              "      <th>Temperatura</th>\n",
              "      <th>Blood Test</th>\n",
              "      <th>PT-PCR</th>\n",
              "      <th>History</th>\n",
              "      <th>Label</th>\n",
              "    </tr>\n",
              "  </thead>\n",
              "  <tbody>\n",
              "    <tr>\n",
              "      <th>1</th>\n",
              "      <td>2</td>\n",
              "      <td>62</td>\n",
              "      <td>Male</td>\n",
              "      <td>Yes</td>\n",
              "      <td>*</td>\n",
              "      <td>Yes</td>\n",
              "      <td>Yes</td>\n",
              "      <td>97</td>\n",
              "      <td>0.75</td>\n",
              "      <td>Yes</td>\n",
              "      <td>*</td>\n",
              "      <td>*</td>\n",
              "      <td>*</td>\n",
              "      <td>*</td>\n",
              "      <td>*</td>\n",
              "      <td>*</td>\n",
              "      <td>*</td>\n",
              "      <td>COVID-19</td>\n",
              "    </tr>\n",
              "    <tr>\n",
              "      <th>2</th>\n",
              "      <td>3</td>\n",
              "      <td>57</td>\n",
              "      <td>Male</td>\n",
              "      <td>Yes</td>\n",
              "      <td>*</td>\n",
              "      <td>Yes</td>\n",
              "      <td>Yes</td>\n",
              "      <td>*</td>\n",
              "      <td>*</td>\n",
              "      <td>*</td>\n",
              "      <td>*</td>\n",
              "      <td>Yes</td>\n",
              "      <td>*</td>\n",
              "      <td>*</td>\n",
              "      <td>*</td>\n",
              "      <td>*</td>\n",
              "      <td>*</td>\n",
              "      <td>COVID-19</td>\n",
              "    </tr>\n",
              "    <tr>\n",
              "      <th>3</th>\n",
              "      <td>4</td>\n",
              "      <td>45</td>\n",
              "      <td>Male</td>\n",
              "      <td>Yes</td>\n",
              "      <td>*</td>\n",
              "      <td>Yes</td>\n",
              "      <td>Yes</td>\n",
              "      <td>*</td>\n",
              "      <td>*</td>\n",
              "      <td>*</td>\n",
              "      <td>Yes</td>\n",
              "      <td>Yes</td>\n",
              "      <td>*</td>\n",
              "      <td>*</td>\n",
              "      <td>*</td>\n",
              "      <td>*</td>\n",
              "      <td>*</td>\n",
              "      <td>COVID-19</td>\n",
              "    </tr>\n",
              "    <tr>\n",
              "      <th>4</th>\n",
              "      <td>5</td>\n",
              "      <td>63</td>\n",
              "      <td>Male</td>\n",
              "      <td>Yes</td>\n",
              "      <td>*</td>\n",
              "      <td>Yes</td>\n",
              "      <td>Yes</td>\n",
              "      <td>*</td>\n",
              "      <td>*</td>\n",
              "      <td>*</td>\n",
              "      <td>Yes</td>\n",
              "      <td>Yes</td>\n",
              "      <td>*</td>\n",
              "      <td>*</td>\n",
              "      <td>*</td>\n",
              "      <td>*</td>\n",
              "      <td>*</td>\n",
              "      <td>COVID-19</td>\n",
              "    </tr>\n",
              "    <tr>\n",
              "      <th>5</th>\n",
              "      <td>6</td>\n",
              "      <td>32</td>\n",
              "      <td>Female</td>\n",
              "      <td>Yes</td>\n",
              "      <td>Yes</td>\n",
              "      <td>*</td>\n",
              "      <td>Yes</td>\n",
              "      <td>*</td>\n",
              "      <td>*</td>\n",
              "      <td>*</td>\n",
              "      <td>Yes</td>\n",
              "      <td>No</td>\n",
              "      <td>*</td>\n",
              "      <td>*</td>\n",
              "      <td>*</td>\n",
              "      <td>*</td>\n",
              "      <td>*</td>\n",
              "      <td>COVID-19</td>\n",
              "    </tr>\n",
              "  </tbody>\n",
              "</table>\n",
              "</div>"
            ],
            "text/plain": [
              "   Number Age  Gender Fever  ... Blood Test PT-PCR History     Label\n",
              "1       2  62    Male   Yes  ...          *      *       *  COVID-19\n",
              "2       3  57    Male   Yes  ...          *      *       *  COVID-19\n",
              "3       4  45    Male   Yes  ...          *      *       *  COVID-19\n",
              "4       5  63    Male   Yes  ...          *      *       *  COVID-19\n",
              "5       6  32  Female   Yes  ...          *      *       *  COVID-19\n",
              "\n",
              "[5 rows x 18 columns]"
            ]
          },
          "metadata": {
            "tags": []
          },
          "execution_count": 2
        }
      ]
    },
    {
      "cell_type": "code",
      "metadata": {
        "id": "RpWdqYz5dIq3",
        "colab_type": "code",
        "colab": {
          "base_uri": "https://localhost:8080/",
          "height": 438
        },
        "outputId": "34c300a9-71f9-464b-c5de-5691316c688f"
      },
      "source": [
        "#Remplazamos los valores nulos, en este caso representados con un \" * \".Los sustituimos por \" -1 \".\n",
        "\n",
        "#Ademas asignamos constantes numericas a los valores aignados como \"Yes/No\",\n",
        "#los remplazamos por \"No=0\", \"Yes=1\". \n",
        "\n",
        "#Y, en este caso, remplazamos las las constantes \"Male/Female\" por: \"Male=0\", \"Female=1\".\n",
        "\n",
        "df['Age'] =df['Age'].replace(to_replace={'*':-1})\n",
        "df['Gender'] =df['Gender'].replace(to_replace={'*':-1})\n",
        "df['Dyspnea'] =df['Dyspnea'].replace(to_replace={'*':-1})\n",
        "df['Nasal'] =df['Nasal'].replace(to_replace={'*':-1})\n",
        "df['Fever'] =df['Fever'].replace(to_replace={'*':-1})\n",
        "df['PO2'] =df['PO2'].replace(to_replace={'*':-1})\n",
        "df['CRP'] =df['CRP'].replace(to_replace={'*':-1})\n",
        "df['Asthenia'] =df['Asthenia'].replace(to_replace={'*':-1})\n",
        "df['Leukopenia'] =df['Leukopenia'].replace(to_replace={'*':-1})\n",
        "df['Exposicion_Covid19_paciente'] =df['Exposicion_Covid19_paciente'].replace(to_replace={'*':-1})\n",
        "df['High_risk_zone'] =df['High_risk_zone'].replace(to_replace={'*':-1})\n",
        "df['Temperatura'] =df['Temperatura'].replace(to_replace={'*':-1})\n",
        "df['Blood Test'] =df['Blood Test'].replace(to_replace={'*':-1})\n",
        "df['PT-PCR'] =df['PT-PCR'].replace(to_replace={'*':-1})\n",
        "df['Cough'] =df['Cough'].replace(to_replace={'*':-1})\n",
        "\n",
        "df['Dyspnea'] =df['Dyspnea'].replace(to_replace={'Yes':1})\n",
        "df['Dyspnea'] =df['Dyspnea'].replace(to_replace={'No':0})\n",
        "\n",
        "df['Gender'] =df['Gender'].replace(to_replace={'Female':1})\n",
        "df['Gender'] =df['Gender'].replace(to_replace={'Male':0})\n",
        "\n",
        "df['Fever'] =df['Fever'].replace(to_replace={'Yes':1})\n",
        "df['Fever'] =df['Fever'].replace(to_replace={'No':0})\n",
        "\n",
        "df['Nasal'] =df['Nasal'].replace(to_replace={'Yes':1})\n",
        "df['Nasal'] =df['Nasal'].replace(to_replace={'No':0})\n",
        "\n",
        "df['Cough'] =df['Cough'].replace(to_replace={'Yes':1})\n",
        "df['Cough'] =df['Cough'].replace(to_replace={'No':0})\n",
        "\n",
        "df['Asthenia'] =df['Asthenia'].replace(to_replace={'Yes':1})\n",
        "df['Asthenia'] =df['Asthenia'].replace(to_replace={'No':0})\n",
        "\n",
        "df['Leukopenia'] =df['Leukopenia'].replace(to_replace={'Yes':1})\n",
        "\n",
        "df['Exposicion_Covid19_paciente'] =df['Exposicion_Covid19_paciente'].replace(to_replace={'Yes':1})\n",
        "df['Exposicion_Covid19_paciente'] =df['Exposicion_Covid19_paciente'].replace(to_replace={'No':0})\n",
        "\n",
        "df['High_risk_zone'] =df['High_risk_zone'].replace(to_replace={'Yes':1})\n",
        "\n",
        "df['Label'] =df['Label'].replace(to_replace={'COVID-19':1})\n",
        "df['Label'] =df['Label'].replace(to_replace={'Flu':0})\n",
        "\n",
        "\n",
        "\n",
        "df"
      ],
      "execution_count": null,
      "outputs": [
        {
          "output_type": "execute_result",
          "data": {
            "text/html": [
              "<div>\n",
              "<style scoped>\n",
              "    .dataframe tbody tr th:only-of-type {\n",
              "        vertical-align: middle;\n",
              "    }\n",
              "\n",
              "    .dataframe tbody tr th {\n",
              "        vertical-align: top;\n",
              "    }\n",
              "\n",
              "    .dataframe thead th {\n",
              "        text-align: right;\n",
              "    }\n",
              "</style>\n",
              "<table border=\"1\" class=\"dataframe\">\n",
              "  <thead>\n",
              "    <tr style=\"text-align: right;\">\n",
              "      <th></th>\n",
              "      <th>Number</th>\n",
              "      <th>Age</th>\n",
              "      <th>Gender</th>\n",
              "      <th>Fever</th>\n",
              "      <th>Dyspnea</th>\n",
              "      <th>Nasal</th>\n",
              "      <th>Cough</th>\n",
              "      <th>PO2</th>\n",
              "      <th>CRP</th>\n",
              "      <th>Asthenia</th>\n",
              "      <th>Leukopenia</th>\n",
              "      <th>Exposicion_Covid19_paciente</th>\n",
              "      <th>High_risk_zone</th>\n",
              "      <th>Temperatura</th>\n",
              "      <th>Blood Test</th>\n",
              "      <th>PT-PCR</th>\n",
              "      <th>History</th>\n",
              "      <th>Label</th>\n",
              "    </tr>\n",
              "  </thead>\n",
              "  <tbody>\n",
              "    <tr>\n",
              "      <th>1</th>\n",
              "      <td>2</td>\n",
              "      <td>62.0</td>\n",
              "      <td>0</td>\n",
              "      <td>1</td>\n",
              "      <td>-1</td>\n",
              "      <td>1</td>\n",
              "      <td>1</td>\n",
              "      <td>97.0</td>\n",
              "      <td>0.75</td>\n",
              "      <td>1</td>\n",
              "      <td>-1</td>\n",
              "      <td>-1</td>\n",
              "      <td>-1</td>\n",
              "      <td>-1.0</td>\n",
              "      <td>-1</td>\n",
              "      <td>-1</td>\n",
              "      <td>*</td>\n",
              "      <td>1</td>\n",
              "    </tr>\n",
              "    <tr>\n",
              "      <th>2</th>\n",
              "      <td>3</td>\n",
              "      <td>57.0</td>\n",
              "      <td>0</td>\n",
              "      <td>1</td>\n",
              "      <td>-1</td>\n",
              "      <td>1</td>\n",
              "      <td>1</td>\n",
              "      <td>-1.0</td>\n",
              "      <td>-1.00</td>\n",
              "      <td>-1</td>\n",
              "      <td>-1</td>\n",
              "      <td>1</td>\n",
              "      <td>-1</td>\n",
              "      <td>-1.0</td>\n",
              "      <td>-1</td>\n",
              "      <td>-1</td>\n",
              "      <td>*</td>\n",
              "      <td>1</td>\n",
              "    </tr>\n",
              "    <tr>\n",
              "      <th>3</th>\n",
              "      <td>4</td>\n",
              "      <td>45.0</td>\n",
              "      <td>0</td>\n",
              "      <td>1</td>\n",
              "      <td>-1</td>\n",
              "      <td>1</td>\n",
              "      <td>1</td>\n",
              "      <td>-1.0</td>\n",
              "      <td>-1.00</td>\n",
              "      <td>-1</td>\n",
              "      <td>1</td>\n",
              "      <td>1</td>\n",
              "      <td>-1</td>\n",
              "      <td>-1.0</td>\n",
              "      <td>-1</td>\n",
              "      <td>-1</td>\n",
              "      <td>*</td>\n",
              "      <td>1</td>\n",
              "    </tr>\n",
              "    <tr>\n",
              "      <th>4</th>\n",
              "      <td>5</td>\n",
              "      <td>63.0</td>\n",
              "      <td>0</td>\n",
              "      <td>1</td>\n",
              "      <td>-1</td>\n",
              "      <td>1</td>\n",
              "      <td>1</td>\n",
              "      <td>-1.0</td>\n",
              "      <td>-1.00</td>\n",
              "      <td>-1</td>\n",
              "      <td>1</td>\n",
              "      <td>1</td>\n",
              "      <td>-1</td>\n",
              "      <td>-1.0</td>\n",
              "      <td>-1</td>\n",
              "      <td>-1</td>\n",
              "      <td>*</td>\n",
              "      <td>1</td>\n",
              "    </tr>\n",
              "    <tr>\n",
              "      <th>5</th>\n",
              "      <td>6</td>\n",
              "      <td>32.0</td>\n",
              "      <td>1</td>\n",
              "      <td>1</td>\n",
              "      <td>1</td>\n",
              "      <td>-1</td>\n",
              "      <td>1</td>\n",
              "      <td>-1.0</td>\n",
              "      <td>-1.00</td>\n",
              "      <td>-1</td>\n",
              "      <td>1</td>\n",
              "      <td>0</td>\n",
              "      <td>-1</td>\n",
              "      <td>-1.0</td>\n",
              "      <td>-1</td>\n",
              "      <td>-1</td>\n",
              "      <td>*</td>\n",
              "      <td>1</td>\n",
              "    </tr>\n",
              "    <tr>\n",
              "      <th>...</th>\n",
              "      <td>...</td>\n",
              "      <td>...</td>\n",
              "      <td>...</td>\n",
              "      <td>...</td>\n",
              "      <td>...</td>\n",
              "      <td>...</td>\n",
              "      <td>...</td>\n",
              "      <td>...</td>\n",
              "      <td>...</td>\n",
              "      <td>...</td>\n",
              "      <td>...</td>\n",
              "      <td>...</td>\n",
              "      <td>...</td>\n",
              "      <td>...</td>\n",
              "      <td>...</td>\n",
              "      <td>...</td>\n",
              "      <td>...</td>\n",
              "      <td>...</td>\n",
              "    </tr>\n",
              "    <tr>\n",
              "      <th>125</th>\n",
              "      <td>126</td>\n",
              "      <td>62.0</td>\n",
              "      <td>1</td>\n",
              "      <td>0</td>\n",
              "      <td>-1</td>\n",
              "      <td>0</td>\n",
              "      <td>1</td>\n",
              "      <td>-1.0</td>\n",
              "      <td>-1.00</td>\n",
              "      <td>0</td>\n",
              "      <td>-1</td>\n",
              "      <td>0</td>\n",
              "      <td>1</td>\n",
              "      <td>38.3</td>\n",
              "      <td>-1</td>\n",
              "      <td>-1</td>\n",
              "      <td>*</td>\n",
              "      <td>0</td>\n",
              "    </tr>\n",
              "    <tr>\n",
              "      <th>126</th>\n",
              "      <td>127</td>\n",
              "      <td>63.0</td>\n",
              "      <td>0</td>\n",
              "      <td>1</td>\n",
              "      <td>-1</td>\n",
              "      <td>0</td>\n",
              "      <td>1</td>\n",
              "      <td>-1.0</td>\n",
              "      <td>-1.00</td>\n",
              "      <td>0</td>\n",
              "      <td>-1</td>\n",
              "      <td>0</td>\n",
              "      <td>1</td>\n",
              "      <td>38.5</td>\n",
              "      <td>-1</td>\n",
              "      <td>-1</td>\n",
              "      <td>*</td>\n",
              "      <td>0</td>\n",
              "    </tr>\n",
              "    <tr>\n",
              "      <th>127</th>\n",
              "      <td>128</td>\n",
              "      <td>63.0</td>\n",
              "      <td>1</td>\n",
              "      <td>1</td>\n",
              "      <td>-1</td>\n",
              "      <td>0</td>\n",
              "      <td>1</td>\n",
              "      <td>-1.0</td>\n",
              "      <td>-1.00</td>\n",
              "      <td>0</td>\n",
              "      <td>-1</td>\n",
              "      <td>0</td>\n",
              "      <td>1</td>\n",
              "      <td>39.3</td>\n",
              "      <td>-1</td>\n",
              "      <td>-1</td>\n",
              "      <td>*</td>\n",
              "      <td>0</td>\n",
              "    </tr>\n",
              "    <tr>\n",
              "      <th>128</th>\n",
              "      <td>129</td>\n",
              "      <td>40.0</td>\n",
              "      <td>1</td>\n",
              "      <td>0</td>\n",
              "      <td>-1</td>\n",
              "      <td>0</td>\n",
              "      <td>0</td>\n",
              "      <td>-1.0</td>\n",
              "      <td>-1.00</td>\n",
              "      <td>0</td>\n",
              "      <td>-1</td>\n",
              "      <td>0</td>\n",
              "      <td>1</td>\n",
              "      <td>-1.0</td>\n",
              "      <td>-1</td>\n",
              "      <td>-1</td>\n",
              "      <td>*</td>\n",
              "      <td>0</td>\n",
              "    </tr>\n",
              "    <tr>\n",
              "      <th>129</th>\n",
              "      <td>130</td>\n",
              "      <td>78.0</td>\n",
              "      <td>1</td>\n",
              "      <td>0</td>\n",
              "      <td>-1</td>\n",
              "      <td>0</td>\n",
              "      <td>0</td>\n",
              "      <td>-1.0</td>\n",
              "      <td>-1.00</td>\n",
              "      <td>0</td>\n",
              "      <td>-1</td>\n",
              "      <td>0</td>\n",
              "      <td>1</td>\n",
              "      <td>36.7</td>\n",
              "      <td>-1</td>\n",
              "      <td>-1</td>\n",
              "      <td>*</td>\n",
              "      <td>0</td>\n",
              "    </tr>\n",
              "  </tbody>\n",
              "</table>\n",
              "<p>129 rows × 18 columns</p>\n",
              "</div>"
            ],
            "text/plain": [
              "     Number   Age  Gender  Fever  ...  Blood Test  PT-PCR  History  Label\n",
              "1         2  62.0       0      1  ...          -1      -1        *      1\n",
              "2         3  57.0       0      1  ...          -1      -1        *      1\n",
              "3         4  45.0       0      1  ...          -1      -1        *      1\n",
              "4         5  63.0       0      1  ...          -1      -1        *      1\n",
              "5         6  32.0       1      1  ...          -1      -1        *      1\n",
              "..      ...   ...     ...    ...  ...         ...     ...      ...    ...\n",
              "125     126  62.0       1      0  ...          -1      -1        *      0\n",
              "126     127  63.0       0      1  ...          -1      -1        *      0\n",
              "127     128  63.0       1      1  ...          -1      -1        *      0\n",
              "128     129  40.0       1      0  ...          -1      -1        *      0\n",
              "129     130  78.0       1      0  ...          -1      -1        *      0\n",
              "\n",
              "[129 rows x 18 columns]"
            ]
          },
          "metadata": {
            "tags": []
          },
          "execution_count": 3
        }
      ]
    },
    {
      "cell_type": "code",
      "metadata": {
        "id": "1Tu_QLJidBjX",
        "colab_type": "code",
        "colab": {
          "base_uri": "https://localhost:8080/",
          "height": 402
        },
        "outputId": "c30d3b2d-40eb-4085-dad1-cc8b6c501c58"
      },
      "source": [
        "#Eliminamos las columnas que producen ruido dentro de nuestro analisis y no aportana a nuestra investigacion.\n",
        "df=df.drop(['History','Number','PT-PCR','Blood Test', 'PO2' , 'CRP', 'Temperatura'], axis=1)\n",
        "df"
      ],
      "execution_count": null,
      "outputs": [
        {
          "output_type": "execute_result",
          "data": {
            "text/html": [
              "<div>\n",
              "<style scoped>\n",
              "    .dataframe tbody tr th:only-of-type {\n",
              "        vertical-align: middle;\n",
              "    }\n",
              "\n",
              "    .dataframe tbody tr th {\n",
              "        vertical-align: top;\n",
              "    }\n",
              "\n",
              "    .dataframe thead th {\n",
              "        text-align: right;\n",
              "    }\n",
              "</style>\n",
              "<table border=\"1\" class=\"dataframe\">\n",
              "  <thead>\n",
              "    <tr style=\"text-align: right;\">\n",
              "      <th></th>\n",
              "      <th>Age</th>\n",
              "      <th>Gender</th>\n",
              "      <th>Fever</th>\n",
              "      <th>Dyspnea</th>\n",
              "      <th>Nasal</th>\n",
              "      <th>Cough</th>\n",
              "      <th>Asthenia</th>\n",
              "      <th>Leukopenia</th>\n",
              "      <th>Exposicion_Covid19_paciente</th>\n",
              "      <th>High_risk_zone</th>\n",
              "      <th>Label</th>\n",
              "    </tr>\n",
              "  </thead>\n",
              "  <tbody>\n",
              "    <tr>\n",
              "      <th>1</th>\n",
              "      <td>62.0</td>\n",
              "      <td>0</td>\n",
              "      <td>1</td>\n",
              "      <td>-1</td>\n",
              "      <td>1</td>\n",
              "      <td>1</td>\n",
              "      <td>1</td>\n",
              "      <td>-1</td>\n",
              "      <td>-1</td>\n",
              "      <td>-1</td>\n",
              "      <td>1</td>\n",
              "    </tr>\n",
              "    <tr>\n",
              "      <th>2</th>\n",
              "      <td>57.0</td>\n",
              "      <td>0</td>\n",
              "      <td>1</td>\n",
              "      <td>-1</td>\n",
              "      <td>1</td>\n",
              "      <td>1</td>\n",
              "      <td>-1</td>\n",
              "      <td>-1</td>\n",
              "      <td>1</td>\n",
              "      <td>-1</td>\n",
              "      <td>1</td>\n",
              "    </tr>\n",
              "    <tr>\n",
              "      <th>3</th>\n",
              "      <td>45.0</td>\n",
              "      <td>0</td>\n",
              "      <td>1</td>\n",
              "      <td>-1</td>\n",
              "      <td>1</td>\n",
              "      <td>1</td>\n",
              "      <td>-1</td>\n",
              "      <td>1</td>\n",
              "      <td>1</td>\n",
              "      <td>-1</td>\n",
              "      <td>1</td>\n",
              "    </tr>\n",
              "    <tr>\n",
              "      <th>4</th>\n",
              "      <td>63.0</td>\n",
              "      <td>0</td>\n",
              "      <td>1</td>\n",
              "      <td>-1</td>\n",
              "      <td>1</td>\n",
              "      <td>1</td>\n",
              "      <td>-1</td>\n",
              "      <td>1</td>\n",
              "      <td>1</td>\n",
              "      <td>-1</td>\n",
              "      <td>1</td>\n",
              "    </tr>\n",
              "    <tr>\n",
              "      <th>5</th>\n",
              "      <td>32.0</td>\n",
              "      <td>1</td>\n",
              "      <td>1</td>\n",
              "      <td>1</td>\n",
              "      <td>-1</td>\n",
              "      <td>1</td>\n",
              "      <td>-1</td>\n",
              "      <td>1</td>\n",
              "      <td>0</td>\n",
              "      <td>-1</td>\n",
              "      <td>1</td>\n",
              "    </tr>\n",
              "    <tr>\n",
              "      <th>...</th>\n",
              "      <td>...</td>\n",
              "      <td>...</td>\n",
              "      <td>...</td>\n",
              "      <td>...</td>\n",
              "      <td>...</td>\n",
              "      <td>...</td>\n",
              "      <td>...</td>\n",
              "      <td>...</td>\n",
              "      <td>...</td>\n",
              "      <td>...</td>\n",
              "      <td>...</td>\n",
              "    </tr>\n",
              "    <tr>\n",
              "      <th>125</th>\n",
              "      <td>62.0</td>\n",
              "      <td>1</td>\n",
              "      <td>0</td>\n",
              "      <td>-1</td>\n",
              "      <td>0</td>\n",
              "      <td>1</td>\n",
              "      <td>0</td>\n",
              "      <td>-1</td>\n",
              "      <td>0</td>\n",
              "      <td>1</td>\n",
              "      <td>0</td>\n",
              "    </tr>\n",
              "    <tr>\n",
              "      <th>126</th>\n",
              "      <td>63.0</td>\n",
              "      <td>0</td>\n",
              "      <td>1</td>\n",
              "      <td>-1</td>\n",
              "      <td>0</td>\n",
              "      <td>1</td>\n",
              "      <td>0</td>\n",
              "      <td>-1</td>\n",
              "      <td>0</td>\n",
              "      <td>1</td>\n",
              "      <td>0</td>\n",
              "    </tr>\n",
              "    <tr>\n",
              "      <th>127</th>\n",
              "      <td>63.0</td>\n",
              "      <td>1</td>\n",
              "      <td>1</td>\n",
              "      <td>-1</td>\n",
              "      <td>0</td>\n",
              "      <td>1</td>\n",
              "      <td>0</td>\n",
              "      <td>-1</td>\n",
              "      <td>0</td>\n",
              "      <td>1</td>\n",
              "      <td>0</td>\n",
              "    </tr>\n",
              "    <tr>\n",
              "      <th>128</th>\n",
              "      <td>40.0</td>\n",
              "      <td>1</td>\n",
              "      <td>0</td>\n",
              "      <td>-1</td>\n",
              "      <td>0</td>\n",
              "      <td>0</td>\n",
              "      <td>0</td>\n",
              "      <td>-1</td>\n",
              "      <td>0</td>\n",
              "      <td>1</td>\n",
              "      <td>0</td>\n",
              "    </tr>\n",
              "    <tr>\n",
              "      <th>129</th>\n",
              "      <td>78.0</td>\n",
              "      <td>1</td>\n",
              "      <td>0</td>\n",
              "      <td>-1</td>\n",
              "      <td>0</td>\n",
              "      <td>0</td>\n",
              "      <td>0</td>\n",
              "      <td>-1</td>\n",
              "      <td>0</td>\n",
              "      <td>1</td>\n",
              "      <td>0</td>\n",
              "    </tr>\n",
              "  </tbody>\n",
              "</table>\n",
              "<p>129 rows × 11 columns</p>\n",
              "</div>"
            ],
            "text/plain": [
              "      Age  Gender  Fever  ...  Exposicion_Covid19_paciente  High_risk_zone  Label\n",
              "1    62.0       0      1  ...                           -1              -1      1\n",
              "2    57.0       0      1  ...                            1              -1      1\n",
              "3    45.0       0      1  ...                            1              -1      1\n",
              "4    63.0       0      1  ...                            1              -1      1\n",
              "5    32.0       1      1  ...                            0              -1      1\n",
              "..    ...     ...    ...  ...                          ...             ...    ...\n",
              "125  62.0       1      0  ...                            0               1      0\n",
              "126  63.0       0      1  ...                            0               1      0\n",
              "127  63.0       1      1  ...                            0               1      0\n",
              "128  40.0       1      0  ...                            0               1      0\n",
              "129  78.0       1      0  ...                            0               1      0\n",
              "\n",
              "[129 rows x 11 columns]"
            ]
          },
          "metadata": {
            "tags": []
          },
          "execution_count": 4
        }
      ]
    },
    {
      "cell_type": "code",
      "metadata": {
        "id": "11mw7p_fv5xx",
        "colab_type": "code",
        "colab": {}
      },
      "source": [
        "#Generamos un archivo que contendra los datos ya depurados\n",
        "df.to_csv(\"DatosParaAnalisis.csv\", sep=\";\",index = False) "
      ],
      "execution_count": null,
      "outputs": []
    },
    {
      "cell_type": "code",
      "metadata": {
        "id": "EgL2wPILFmEw",
        "colab_type": "code",
        "colab": {}
      },
      "source": [
        "#Seleccionamos las variables independientes y las separamos de la independiente, de esta forma:\n",
        "X = df.iloc[:,:-1]\n",
        "y = df.iloc[:,-1]"
      ],
      "execution_count": null,
      "outputs": []
    },
    {
      "cell_type": "code",
      "metadata": {
        "id": "3nsvKIlrFoyi",
        "colab_type": "code",
        "colab": {
          "base_uri": "https://localhost:8080/",
          "height": 195
        },
        "outputId": "5bfc2d7d-930b-4719-cd30-76bc33b8e08d"
      },
      "source": [
        "X.head()"
      ],
      "execution_count": null,
      "outputs": [
        {
          "output_type": "execute_result",
          "data": {
            "text/html": [
              "<div>\n",
              "<style scoped>\n",
              "    .dataframe tbody tr th:only-of-type {\n",
              "        vertical-align: middle;\n",
              "    }\n",
              "\n",
              "    .dataframe tbody tr th {\n",
              "        vertical-align: top;\n",
              "    }\n",
              "\n",
              "    .dataframe thead th {\n",
              "        text-align: right;\n",
              "    }\n",
              "</style>\n",
              "<table border=\"1\" class=\"dataframe\">\n",
              "  <thead>\n",
              "    <tr style=\"text-align: right;\">\n",
              "      <th></th>\n",
              "      <th>Age</th>\n",
              "      <th>Gender</th>\n",
              "      <th>Fever</th>\n",
              "      <th>Dyspnea</th>\n",
              "      <th>Nasal</th>\n",
              "      <th>Cough</th>\n",
              "      <th>Asthenia</th>\n",
              "      <th>Leukopenia</th>\n",
              "      <th>Exposicion_Covid19_paciente</th>\n",
              "      <th>High_risk_zone</th>\n",
              "    </tr>\n",
              "  </thead>\n",
              "  <tbody>\n",
              "    <tr>\n",
              "      <th>1</th>\n",
              "      <td>62.0</td>\n",
              "      <td>0</td>\n",
              "      <td>1</td>\n",
              "      <td>-1</td>\n",
              "      <td>1</td>\n",
              "      <td>1</td>\n",
              "      <td>1</td>\n",
              "      <td>-1</td>\n",
              "      <td>-1</td>\n",
              "      <td>-1</td>\n",
              "    </tr>\n",
              "    <tr>\n",
              "      <th>2</th>\n",
              "      <td>57.0</td>\n",
              "      <td>0</td>\n",
              "      <td>1</td>\n",
              "      <td>-1</td>\n",
              "      <td>1</td>\n",
              "      <td>1</td>\n",
              "      <td>-1</td>\n",
              "      <td>-1</td>\n",
              "      <td>1</td>\n",
              "      <td>-1</td>\n",
              "    </tr>\n",
              "    <tr>\n",
              "      <th>3</th>\n",
              "      <td>45.0</td>\n",
              "      <td>0</td>\n",
              "      <td>1</td>\n",
              "      <td>-1</td>\n",
              "      <td>1</td>\n",
              "      <td>1</td>\n",
              "      <td>-1</td>\n",
              "      <td>1</td>\n",
              "      <td>1</td>\n",
              "      <td>-1</td>\n",
              "    </tr>\n",
              "    <tr>\n",
              "      <th>4</th>\n",
              "      <td>63.0</td>\n",
              "      <td>0</td>\n",
              "      <td>1</td>\n",
              "      <td>-1</td>\n",
              "      <td>1</td>\n",
              "      <td>1</td>\n",
              "      <td>-1</td>\n",
              "      <td>1</td>\n",
              "      <td>1</td>\n",
              "      <td>-1</td>\n",
              "    </tr>\n",
              "    <tr>\n",
              "      <th>5</th>\n",
              "      <td>32.0</td>\n",
              "      <td>1</td>\n",
              "      <td>1</td>\n",
              "      <td>1</td>\n",
              "      <td>-1</td>\n",
              "      <td>1</td>\n",
              "      <td>-1</td>\n",
              "      <td>1</td>\n",
              "      <td>0</td>\n",
              "      <td>-1</td>\n",
              "    </tr>\n",
              "  </tbody>\n",
              "</table>\n",
              "</div>"
            ],
            "text/plain": [
              "    Age  Gender  Fever  ...  Leukopenia  Exposicion_Covid19_paciente  High_risk_zone\n",
              "1  62.0       0      1  ...          -1                           -1              -1\n",
              "2  57.0       0      1  ...          -1                            1              -1\n",
              "3  45.0       0      1  ...           1                            1              -1\n",
              "4  63.0       0      1  ...           1                            1              -1\n",
              "5  32.0       1      1  ...           1                            0              -1\n",
              "\n",
              "[5 rows x 10 columns]"
            ]
          },
          "metadata": {
            "tags": []
          },
          "execution_count": 7
        }
      ]
    },
    {
      "cell_type": "code",
      "metadata": {
        "id": "jjx6-tdQFtb5",
        "colab_type": "code",
        "colab": {
          "base_uri": "https://localhost:8080/",
          "height": 218
        },
        "outputId": "42bd2f29-d5bd-4f2a-c782-dfb9d955fbd1"
      },
      "source": [
        "y"
      ],
      "execution_count": null,
      "outputs": [
        {
          "output_type": "execute_result",
          "data": {
            "text/plain": [
              "1      1\n",
              "2      1\n",
              "3      1\n",
              "4      1\n",
              "5      1\n",
              "      ..\n",
              "125    0\n",
              "126    0\n",
              "127    0\n",
              "128    0\n",
              "129    0\n",
              "Name: Label, Length: 129, dtype: int64"
            ]
          },
          "metadata": {
            "tags": []
          },
          "execution_count": 97
        }
      ]
    },
    {
      "cell_type": "code",
      "metadata": {
        "id": "tfvooow9Fy7u",
        "colab_type": "code",
        "colab": {
          "base_uri": "https://localhost:8080/",
          "height": 34
        },
        "outputId": "8a91e1de-b136-4207-bdd5-817ca6748463"
      },
      "source": [
        "#Observamos cuantos ceros y unos hay en la base, en la parte de la variable dependiente\n",
        "ceros = y[y==0].count()\n",
        "unos = y[y==1].count()\n",
        "ceros, unos"
      ],
      "execution_count": null,
      "outputs": [
        {
          "output_type": "execute_result",
          "data": {
            "text/plain": [
              "(62, 67)"
            ]
          },
          "metadata": {
            "tags": []
          },
          "execution_count": 98
        }
      ]
    },
    {
      "cell_type": "code",
      "metadata": {
        "id": "pggDhvpkF-Rg",
        "colab_type": "code",
        "colab": {
          "base_uri": "https://localhost:8080/",
          "height": 459
        },
        "outputId": "671440a0-d224-4d96-af92-7e0776556354"
      },
      "source": [
        "#Representamos de forma grafica\n",
        "fig, ax=plt.subplots(figsize = (16,7))\n",
        "sns.distplot(y)"
      ],
      "execution_count": null,
      "outputs": [
        {
          "output_type": "execute_result",
          "data": {
            "text/plain": [
              "<matplotlib.axes._subplots.AxesSubplot at 0x7fb50573ceb8>"
            ]
          },
          "metadata": {
            "tags": []
          },
          "execution_count": 99
        },
        {
          "output_type": "display_data",
          "data": {
            "image/png": "[encoded data removed]",
            "text/plain": [
              "<Figure size 1152x504 with 1 Axes>"
            ]
          },
          "metadata": {
            "tags": [],
            "needs_background": "light"
          }
        }
      ]
    },
    {
      "cell_type": "markdown",
      "metadata": {
        "id": "VVDXtfyDgR20",
        "colab_type": "text"
      },
      "source": [
        "### Realizamos un Split con 20% en Test"
      ]
    },
    {
      "cell_type": "code",
      "metadata": {
        "id": "7sOX_mxoGBxS",
        "colab_type": "code",
        "colab": {}
      },
      "source": [
        "#Train: entrenaremos nuestro modelo en este conjunto de datos.\n",
        "#Test: utilizaremos este subconjunto para hacer predicciones reales usando un modelo entrenado.\n",
        "#Division train y test, con un split en el test del 20%:\n",
        "X_train, X_test, y_train, y_test = train_test_split(X, y, test_size=0.2, random_state=1)"
      ],
      "execution_count": null,
      "outputs": []
    },
    {
      "cell_type": "code",
      "metadata": {
        "id": "htI3PsE2GD4e",
        "colab_type": "code",
        "colab": {
          "base_uri": "https://localhost:8080/",
          "height": 195
        },
        "outputId": "b4fd92f9-9944-413e-8ce0-0c0556a40d3c"
      },
      "source": [
        "X_train.head()"
      ],
      "execution_count": null,
      "outputs": [
        {
          "output_type": "execute_result",
          "data": {
            "text/html": [
              "<div>\n",
              "<style scoped>\n",
              "    .dataframe tbody tr th:only-of-type {\n",
              "        vertical-align: middle;\n",
              "    }\n",
              "\n",
              "    .dataframe tbody tr th {\n",
              "        vertical-align: top;\n",
              "    }\n",
              "\n",
              "    .dataframe thead th {\n",
              "        text-align: right;\n",
              "    }\n",
              "</style>\n",
              "<table border=\"1\" class=\"dataframe\">\n",
              "  <thead>\n",
              "    <tr style=\"text-align: right;\">\n",
              "      <th></th>\n",
              "      <th>Age</th>\n",
              "      <th>Gender</th>\n",
              "      <th>Fever</th>\n",
              "      <th>Dyspnea</th>\n",
              "      <th>Nasal</th>\n",
              "      <th>Cough</th>\n",
              "      <th>Asthenia</th>\n",
              "      <th>Leukopenia</th>\n",
              "      <th>Exposicion_Covid19_paciente</th>\n",
              "      <th>High_risk_zone</th>\n",
              "    </tr>\n",
              "  </thead>\n",
              "  <tbody>\n",
              "    <tr>\n",
              "      <th>81</th>\n",
              "      <td>55.0</td>\n",
              "      <td>1</td>\n",
              "      <td>0</td>\n",
              "      <td>-1</td>\n",
              "      <td>0</td>\n",
              "      <td>0</td>\n",
              "      <td>0</td>\n",
              "      <td>-1</td>\n",
              "      <td>0</td>\n",
              "      <td>1</td>\n",
              "    </tr>\n",
              "    <tr>\n",
              "      <th>45</th>\n",
              "      <td>61.0</td>\n",
              "      <td>0</td>\n",
              "      <td>1</td>\n",
              "      <td>1</td>\n",
              "      <td>-1</td>\n",
              "      <td>-1</td>\n",
              "      <td>1</td>\n",
              "      <td>-1</td>\n",
              "      <td>-1</td>\n",
              "      <td>-1</td>\n",
              "    </tr>\n",
              "    <tr>\n",
              "      <th>100</th>\n",
              "      <td>25.0</td>\n",
              "      <td>1</td>\n",
              "      <td>1</td>\n",
              "      <td>-1</td>\n",
              "      <td>0</td>\n",
              "      <td>1</td>\n",
              "      <td>0</td>\n",
              "      <td>-1</td>\n",
              "      <td>0</td>\n",
              "      <td>1</td>\n",
              "    </tr>\n",
              "    <tr>\n",
              "      <th>55</th>\n",
              "      <td>53.0</td>\n",
              "      <td>1</td>\n",
              "      <td>1</td>\n",
              "      <td>1</td>\n",
              "      <td>1</td>\n",
              "      <td>-1</td>\n",
              "      <td>-1</td>\n",
              "      <td>-1</td>\n",
              "      <td>-1</td>\n",
              "      <td>-1</td>\n",
              "    </tr>\n",
              "    <tr>\n",
              "      <th>84</th>\n",
              "      <td>46.0</td>\n",
              "      <td>1</td>\n",
              "      <td>1</td>\n",
              "      <td>-1</td>\n",
              "      <td>0</td>\n",
              "      <td>1</td>\n",
              "      <td>0</td>\n",
              "      <td>-1</td>\n",
              "      <td>0</td>\n",
              "      <td>1</td>\n",
              "    </tr>\n",
              "  </tbody>\n",
              "</table>\n",
              "</div>"
            ],
            "text/plain": [
              "      Age  Gender  ...  Exposicion_Covid19_paciente  High_risk_zone\n",
              "81   55.0       1  ...                            0               1\n",
              "45   61.0       0  ...                           -1              -1\n",
              "100  25.0       1  ...                            0               1\n",
              "55   53.0       1  ...                           -1              -1\n",
              "84   46.0       1  ...                            0               1\n",
              "\n",
              "[5 rows x 10 columns]"
            ]
          },
          "metadata": {
            "tags": []
          },
          "execution_count": 101
        }
      ]
    },
    {
      "cell_type": "code",
      "metadata": {
        "id": "Mja8-56HGIud",
        "colab_type": "code",
        "colab": {
          "base_uri": "https://localhost:8080/",
          "height": 34
        },
        "outputId": "d10b09f7-3c6c-440f-be25-0ac477e08329"
      },
      "source": [
        "X_train.shape[1]"
      ],
      "execution_count": null,
      "outputs": [
        {
          "output_type": "execute_result",
          "data": {
            "text/plain": [
              "10"
            ]
          },
          "metadata": {
            "tags": []
          },
          "execution_count": 102
        }
      ]
    },
    {
      "cell_type": "markdown",
      "metadata": {
        "id": "F1DWc4jchZwZ",
        "colab_type": "text"
      },
      "source": [
        "###Diseñamos un modelo de Machine Learning."
      ]
    },
    {
      "cell_type": "markdown",
      "metadata": {
        "id": "_rR3vad4Q6Tx",
        "colab_type": "text"
      },
      "source": [
        "###Diseñamos nuestro metodo de Random Forest"
      ]
    },
    {
      "cell_type": "code",
      "metadata": {
        "id": "e2HWmeIuGeF8",
        "colab_type": "code",
        "colab": {}
      },
      "source": [
        "#que me cree 500 arboles\n",
        "#n_jobs = -1  para que coja todos los nucleos\n",
        "#random state para que coja la base aleatoria del mismo modo\n",
        "rf = RandomForestClassifier(n_estimators = 500, n_jobs=-1, random_state=1)"
      ],
      "execution_count": null,
      "outputs": []
    },
    {
      "cell_type": "code",
      "metadata": {
        "id": "ZyQ4BaOkGtmO",
        "colab_type": "code",
        "colab": {
          "base_uri": "https://localhost:8080/",
          "height": 151
        },
        "outputId": "612acb02-fb6a-42b9-efb6-9eb7f8bc1ac7"
      },
      "source": [
        "rf.fit(X_train, y_train)"
      ],
      "execution_count": null,
      "outputs": [
        {
          "output_type": "execute_result",
          "data": {
            "text/plain": [
              "RandomForestClassifier(bootstrap=True, ccp_alpha=0.0, class_weight=None,\n",
              "                       criterion='gini', max_depth=None, max_features='auto',\n",
              "                       max_leaf_nodes=None, max_samples=None,\n",
              "                       min_impurity_decrease=0.0, min_impurity_split=None,\n",
              "                       min_samples_leaf=1, min_samples_split=2,\n",
              "                       min_weight_fraction_leaf=0.0, n_estimators=500,\n",
              "                       n_jobs=-1, oob_score=False, random_state=1, verbose=0,\n",
              "                       warm_start=False)"
            ]
          },
          "metadata": {
            "tags": []
          },
          "execution_count": 104
        }
      ]
    },
    {
      "cell_type": "code",
      "metadata": {
        "id": "TpmK-xe2Gwe8",
        "colab_type": "code",
        "colab": {
          "base_uri": "https://localhost:8080/",
          "height": 50
        },
        "outputId": "2aac0c11-d6a5-4ec3-f0c9-42d3b2042837"
      },
      "source": [
        "#predicciones con el random forest\n",
        "y_prds = rf.predict(X_test)\n",
        "#vemos la predicciones\n",
        "y_prds"
      ],
      "execution_count": null,
      "outputs": [
        {
          "output_type": "execute_result",
          "data": {
            "text/plain": [
              "array([0, 0, 1, 1, 1, 0, 0, 1, 1, 1, 0, 0, 1, 0, 0, 1, 1, 1, 0, 0, 0, 1,\n",
              "       1, 0, 0, 0])"
            ]
          },
          "metadata": {
            "tags": []
          },
          "execution_count": 105
        }
      ]
    },
    {
      "cell_type": "code",
      "metadata": {
        "id": "D0QjFGk9HyxR",
        "colab_type": "code",
        "colab": {
          "base_uri": "https://localhost:8080/",
          "height": 343
        },
        "outputId": "5f0520a6-c9c8-4afe-c3ff-a07bdef20aff"
      },
      "source": [
        "comp = pd.DataFrame({'real': y_test, 'preds': y_prds})\n",
        "comp.head(10)"
      ],
      "execution_count": null,
      "outputs": [
        {
          "output_type": "execute_result",
          "data": {
            "text/html": [
              "<div>\n",
              "<style scoped>\n",
              "    .dataframe tbody tr th:only-of-type {\n",
              "        vertical-align: middle;\n",
              "    }\n",
              "\n",
              "    .dataframe tbody tr th {\n",
              "        vertical-align: top;\n",
              "    }\n",
              "\n",
              "    .dataframe thead th {\n",
              "        text-align: right;\n",
              "    }\n",
              "</style>\n",
              "<table border=\"1\" class=\"dataframe\">\n",
              "  <thead>\n",
              "    <tr style=\"text-align: right;\">\n",
              "      <th></th>\n",
              "      <th>real</th>\n",
              "      <th>preds</th>\n",
              "    </tr>\n",
              "  </thead>\n",
              "  <tbody>\n",
              "    <tr>\n",
              "      <th>123</th>\n",
              "      <td>0</td>\n",
              "      <td>0</td>\n",
              "    </tr>\n",
              "    <tr>\n",
              "      <th>105</th>\n",
              "      <td>0</td>\n",
              "      <td>0</td>\n",
              "    </tr>\n",
              "    <tr>\n",
              "      <th>56</th>\n",
              "      <td>1</td>\n",
              "      <td>1</td>\n",
              "    </tr>\n",
              "    <tr>\n",
              "      <th>57</th>\n",
              "      <td>1</td>\n",
              "      <td>1</td>\n",
              "    </tr>\n",
              "    <tr>\n",
              "      <th>34</th>\n",
              "      <td>1</td>\n",
              "      <td>1</td>\n",
              "    </tr>\n",
              "    <tr>\n",
              "      <th>120</th>\n",
              "      <td>0</td>\n",
              "      <td>0</td>\n",
              "    </tr>\n",
              "    <tr>\n",
              "      <th>124</th>\n",
              "      <td>0</td>\n",
              "      <td>0</td>\n",
              "    </tr>\n",
              "    <tr>\n",
              "      <th>36</th>\n",
              "      <td>1</td>\n",
              "      <td>1</td>\n",
              "    </tr>\n",
              "    <tr>\n",
              "      <th>32</th>\n",
              "      <td>1</td>\n",
              "      <td>1</td>\n",
              "    </tr>\n",
              "    <tr>\n",
              "      <th>52</th>\n",
              "      <td>1</td>\n",
              "      <td>1</td>\n",
              "    </tr>\n",
              "  </tbody>\n",
              "</table>\n",
              "</div>"
            ],
            "text/plain": [
              "     real  preds\n",
              "123     0      0\n",
              "105     0      0\n",
              "56      1      1\n",
              "57      1      1\n",
              "34      1      1\n",
              "120     0      0\n",
              "124     0      0\n",
              "36      1      1\n",
              "32      1      1\n",
              "52      1      1"
            ]
          },
          "metadata": {
            "tags": []
          },
          "execution_count": 108
        }
      ]
    },
    {
      "cell_type": "code",
      "metadata": {
        "id": "CnyBhgk7G1oH",
        "colab_type": "code",
        "colab": {
          "base_uri": "https://localhost:8080/",
          "height": 34
        },
        "outputId": "e1a692cd-7564-492f-8408-0e7f3b81a714"
      },
      "source": [
        "#ver que resultado nos sale\n",
        "accuracy_score(y_test, y_prds)\n",
        "\n",
        "#en los 500 arboles que ha creado aleatoriamente a podido sacar ciertos patrones\n",
        "#de la solucion de estos arboles y nos ha mejorado el resultado"
      ],
      "execution_count": null,
      "outputs": [
        {
          "output_type": "execute_result",
          "data": {
            "text/plain": [
              "1.0"
            ]
          },
          "metadata": {
            "tags": []
          },
          "execution_count": 109
        }
      ]
    },
    {
      "cell_type": "code",
      "metadata": {
        "id": "5-vVWWTaHAaO",
        "colab_type": "code",
        "colab": {
          "base_uri": "https://localhost:8080/",
          "height": 50
        },
        "outputId": "bfa38bdf-4a7a-496f-89aa-076f80576f1f"
      },
      "source": [
        "# Calcular que tanto esta atinado con una matriz de confucion\n",
        "#14 ceros que hacerto bien y 12 unos que acerto bien\n",
        "#pero hay, 0 ceros que nuestro modelo dice que son 1 \n",
        "#y 0 unos que nuestro modelo dice que son 0\n",
        "from sklearn.metrics import  confusion_matrix\n",
        "cm = confusion_matrix(y_test, y_prds)\n",
        "cm"
      ],
      "execution_count": null,
      "outputs": [
        {
          "output_type": "execute_result",
          "data": {
            "text/plain": [
              "array([[14,  0],\n",
              "       [ 0, 12]])"
            ]
          },
          "metadata": {
            "tags": []
          },
          "execution_count": 110
        }
      ]
    },
    {
      "cell_type": "markdown",
      "metadata": {
        "id": "BtxrsgIvjb9-",
        "colab_type": "text"
      },
      "source": [
        "## Metodo Propuesto"
      ]
    },
    {
      "cell_type": "code",
      "metadata": {
        "id": "4b1RoxGAsfcr",
        "colab_type": "code",
        "colab": {}
      },
      "source": [
        "#Elbow Method\n",
        "x1=[]\n",
        "x2=[]\n",
        "\n",
        "with open('DatosParaAnalisis.csv', 'r') as csvfile:\n",
        "    plots= csv.reader(csvfile, delimiter=';')\n",
        "    for row in plots:\n",
        "        x1.append(float(row[0]))\n",
        "        x2.append(float(row[1]))"
      ],
      "execution_count": null,
      "outputs": []
    },
    {
      "cell_type": "code",
      "metadata": {
        "id": "cwKwpolp7krK",
        "colab_type": "code",
        "colab": {}
      },
      "source": [
        "# k means determine k\n",
        "distortions = []\n",
        "K = range(1,10)\n",
        "for k in K:\n",
        "    kmeanModel = KMeans(n_clusters=k).fit(X)\n",
        "    kmeanModel.fit(X)\n",
        "    distortions.append(sum(np.min(cdist(X, kmeanModel.cluster_centers_, 'euclidean'), axis=1)) / X.shape[0])"
      ],
      "execution_count": null,
      "outputs": []
    },
    {
      "cell_type": "code",
      "metadata": {
        "id": "EPBp1iM97sId",
        "colab_type": "code",
        "colab": {
          "base_uri": "https://localhost:8080/",
          "height": 312
        },
        "outputId": "7a612cce-f2b0-4032-e43b-d0d817abc5f3"
      },
      "source": [
        "# Plot the elbow\n",
        "plt.plot(K, distortions, 'bx-')\n",
        "plt.xlabel('k')\n",
        "plt.ylabel('Distortion')\n",
        "plt.title('The Elbow Method showing the optimal k')\n",
        "inicio  = default_timer()\n",
        "\n",
        "plt.show()\n",
        "fin = default_timer()\n",
        "print ('Tiempo de ejecucion: ', fin - inicio)"
      ],
      "execution_count": null,
      "outputs": [
        {
          "output_type": "display_data",
          "data": {
            "image/png": "[encoded data removed]",
            "text/plain": [
              "<Figure size 432x288 with 1 Axes>"
            ]
          },
          "metadata": {
            "tags": [],
            "needs_background": "light"
          }
        },
        {
          "output_type": "stream",
          "text": [
            "Tiempo de ejecucion:  0.13785525299954315\n"
          ],
          "name": "stdout"
        }
      ]
    },
    {
      "cell_type": "code",
      "metadata": {
        "id": "ppR1ZNcf73pf",
        "colab_type": "code",
        "colab": {}
      },
      "source": [
        "#Estandarizacion de los datos\n",
        "x=df\n",
        "x = StandardScaler().fit_transform(x)"
      ],
      "execution_count": null,
      "outputs": []
    },
    {
      "cell_type": "code",
      "metadata": {
        "id": "P25_diUk75WT",
        "colab_type": "code",
        "colab": {}
      },
      "source": [
        "#PCA con todos los datos\n",
        "pca = PCA()\n",
        "principalComponents = pca.fit_transform(x)\n",
        "principalComponents\n",
        "\n",
        "num_components=principalComponents.shape[1]\n",
        "num_components\n",
        "explained_variance_ratio_=pca.explained_variance_ratio_\n",
        "explained_variance_ratio_\n",
        "#print('Varianzas:')\n",
        "#print(np.around(explained_variance_ratio_, decimals=3))\n",
        "\n",
        "a = range(1,num_components+1)\n",
        "num_pc= a[::1]"
      ],
      "execution_count": null,
      "outputs": []
    },
    {
      "cell_type": "code",
      "metadata": {
        "id": "rJ1pgKs18D2j",
        "colab_type": "code",
        "colab": {
          "base_uri": "https://localhost:8080/",
          "height": 312
        },
        "outputId": "e389c221-3690-46fe-ec6b-d82b8b768f44"
      },
      "source": [
        "#Visualizar en 2D\n",
        "\n",
        "\n",
        "plt.plot(num_pc, explained_variance_ratio_)\n",
        "plt.plot(num_pc, explained_variance_ratio_, color='blue', linestyle='dashed', linewidth = 3, \n",
        "         marker='o', markerfacecolor='blue', markersize=12)\n",
        "plt.ylim((0,1))\n",
        "plt.title('Analysis #PC')\n",
        "plt.xlabel('#Principal Components')\n",
        "plt.ylabel('Variance')\n",
        "\n",
        "inicio  = default_timer()\n",
        "\n",
        "plt.show()\n",
        "fin = default_timer()\n",
        "print ('Timepo de ejecucion: ', fin - inicio)\n"
      ],
      "execution_count": null,
      "outputs": [
        {
          "output_type": "display_data",
          "data": {
            "image/png": "[encoded data removed]",
            "text/plain": [
              "<Figure size 432x288 with 1 Axes>"
            ]
          },
          "metadata": {
            "tags": [],
            "needs_background": "light"
          }
        },
        {
          "output_type": "stream",
          "text": [
            "Timepo de ejecucion:  0.1343301490005615\n"
          ],
          "name": "stdout"
        }
      ]
    },
    {
      "cell_type": "code",
      "metadata": {
        "id": "FGcLKi9C8K6V",
        "colab_type": "code",
        "colab": {
          "base_uri": "https://localhost:8080/",
          "height": 50
        },
        "outputId": "ebd8755b-dca0-48d0-d96c-0cf233a4dd04"
      },
      "source": [
        "#Reduccion de componentes con PCA\n",
        "num_components=3\n",
        "pca = PCA(num_components)\n",
        "principalComponents = pca.fit_transform(x)\n",
        "\n",
        "explained_variance_ratio_=pca.explained_variance_ratio_\n",
        "explained_variance_ratio_\n",
        "print('Varianzas:')\n",
        "print(np.around(explained_variance_ratio_, decimals=3))\n",
        "a = range(num_components)\n",
        "num_pc= a[::1]\n",
        "\n",
        "principalDf = pd.DataFrame(data = principalComponents\n",
        "             , columns = num_pc)\n",
        "\n",
        "principalDf=round(principalDf, 2)\n",
        "#print(principalDf)\n",
        "#Explicación de la varianza\n",
        "explained_variance_ratio_\n",
        "a = range(num_components)\n",
        "num_pc= np.linspace(1,num_components,num_components)"
      ],
      "execution_count": null,
      "outputs": [
        {
          "output_type": "stream",
          "text": [
            "Varianzas:\n",
            "[0.328 0.137 0.118]\n"
          ],
          "name": "stdout"
        }
      ]
    },
    {
      "cell_type": "code",
      "metadata": {
        "id": "JGGgwFVs8PGS",
        "colab_type": "code",
        "colab": {
          "base_uri": "https://localhost:8080/",
          "height": 312
        },
        "outputId": "2be82e1c-aa7f-43f0-c58e-60ce133473dc"
      },
      "source": [
        "#Visualización en 2D\n",
        "import matplotlib.pyplot as plt\n",
        "\n",
        "#plt.plot(num_pc, explained_variance)\n",
        "plt.plot(num_pc, explained_variance_ratio_, color='blue', linestyle='dashed', linewidth = 3, \n",
        "         marker='o', markerfacecolor='blue', markersize=12)\n",
        "\n",
        "#plt.ylim((0,0.4))\n",
        "plt.title('Analysis #PC')\n",
        "plt.xlabel('#Principal Components')\n",
        "plt.ylabel('Variance')\n",
        "\n",
        "inicio  = default_timer()\n",
        "\n",
        "plt.show()\n",
        "fin = default_timer()\n",
        "print ('Tiempo de ejecucion: ', fin - inicio)"
      ],
      "execution_count": null,
      "outputs": [
        {
          "output_type": "display_data",
          "data": {
            "image/png": "[encoded data removed]",
            "text/plain": [
              "<Figure size 432x288 with 1 Axes>"
            ]
          },
          "metadata": {
            "tags": [],
            "needs_background": "light"
          }
        },
        {
          "output_type": "stream",
          "text": [
            "Tiempo de ejecucion:  0.1646087119997901\n"
          ],
          "name": "stdout"
        }
      ]
    },
    {
      "cell_type": "code",
      "metadata": {
        "id": "qSj8FNKI8Vpy",
        "colab_type": "code",
        "colab": {
          "base_uri": "https://localhost:8080/",
          "height": 34
        },
        "outputId": "fdc6eeb7-9ad0-45a6-c522-46b9e3af33df"
      },
      "source": [
        "#Kmeans Clustering \n",
        "def doKmeans(X, nclust=3):\n",
        "    model = KMeans(nclust)\n",
        "    model.fit(X)\n",
        "    clust_labels = model.predict(X)\n",
        "    cent = model.cluster_centers_\n",
        "    return (clust_labels, cent)\n",
        "\n",
        "inicion = default_timer()\n",
        "\n",
        "clust_labels, cent = doKmeans(principalDf, 3)\n",
        "kmeans = pd.DataFrame(clust_labels)\n",
        "kmeans\n",
        "fin = default_timer()\n",
        "print ('Tiempo de ejecucion: ', fin - inicio)"
      ],
      "execution_count": null,
      "outputs": [
        {
          "output_type": "stream",
          "text": [
            "Tiempo de ejecucion:  1.091537877000519\n"
          ],
          "name": "stdout"
        }
      ]
    },
    {
      "cell_type": "code",
      "metadata": {
        "id": "x6I9A5lS8cfP",
        "colab_type": "code",
        "colab": {
          "base_uri": "https://localhost:8080/",
          "height": 282
        },
        "outputId": "3082d275-2062-4b32-b049-029b4f996600"
      },
      "source": [
        "\n",
        "#Visualización de grupos de usuarios en 3D\n",
        "from mpl_toolkits import mplot3d\n",
        "%matplotlib inline\n",
        "import numpy as np\n",
        "import matplotlib.pyplot as plt\n",
        "fig = plt.figure()\n",
        "\n",
        "inicio  = default_timer()\n",
        "\n",
        "ax = plt.axes(projection='3d')\n",
        "fin = default_timer()\n",
        "print ('Timepo de ejecucion: ', fin - inicio)\n",
        "\n",
        "\n",
        "# Data for a three-dimensional line\n",
        "zline = np.linspace(-5, 5, 11)\n",
        "xline = np.linspace(0, 10, 11)\n",
        "yline = np.linspace(0, 15, 11)\n",
        "#ax.plot3D(xline, yline, zline, 'gray')\n",
        "\n",
        "# Data for three-dimensional scattered points\n",
        "zdata = principalDf[0]\n",
        "xdata = principalDf[1]\n",
        "ydata = principalDf[2]\n",
        "#ax.scatter3D(xdata, ydata, zdata, c=zdata);\n",
        "ax.scatter3D(xdata, ydata, zdata);\n",
        "ax.set_title('K-Means Clustering')\n",
        "ax.set_xlabel('1ER FACTOR')\n",
        "ax.set_ylabel('2DO FACTOR')\n",
        "ax.set_zlabel('3ER FACTOR')"
      ],
      "execution_count": null,
      "outputs": [
        {
          "output_type": "stream",
          "text": [
            "Timepo de ejecucion:  0.02089941599933809\n"
          ],
          "name": "stdout"
        },
        {
          "output_type": "execute_result",
          "data": {
            "text/plain": [
              "Text(0.5, 0, '3ER FACTOR')"
            ]
          },
          "metadata": {
            "tags": []
          },
          "execution_count": 126
        },
        {
          "output_type": "display_data",
          "data": {
            "image/png": "[encoded data removed]",
            "text/plain": [
              "<Figure size 432x288 with 1 Axes>"
            ]
          },
          "metadata": {
            "tags": [],
            "needs_background": "light"
          }
        }
      ]
    },
    {
      "cell_type": "code",
      "metadata": {
        "id": "-gXRRBcB8r5o",
        "colab_type": "code",
        "colab": {
          "base_uri": "https://localhost:8080/",
          "height": 329
        },
        "outputId": "42953134-3fb8-4e7b-dd13-8b057c7b597d"
      },
      "source": [
        "#Visualización de grupos  en 2D\n",
        "\n",
        "#determinar el numero de clusters\n",
        "\n",
        "#Datamining: Clustering (método no supervisado de Machine Learning)\n",
        "num_clusters=\n",
        "clust_labels, cent = doKmeans(principalDf, num_clusters)\n",
        "kmeans = pd.DataFrame(clust_labels)\n",
        "\n",
        "fig = plt.figure()\n",
        "ax = fig.add_subplot(111)\n",
        "scatter = ax.scatter(principalDf[0],principalDf[1],\n",
        "                     c=kmeans[0],s=50)\n",
        "\n",
        "ax.set_title('K-Means Clustering')\n",
        "ax.set_xlabel('1ER FACTOR')\n",
        "ax.set_ylabel('2DO FACTOR')\n",
        "\n",
        "inicio  = default_timer()\n",
        "\n",
        "plt.colorbar(scatter)\n",
        "fin = default_timer()\n",
        "print ('Tiempo de ejecucion: ', fin - inicio)\n",
        "\n",
        "\n",
        "#agregar etiquetas\n",
        "new_ds= df\n",
        "new_ds['etiqueta'] = kmeans\n",
        "new_ds.to_csv('datasetConEtiquetas.csv')\n",
        "print(\"Se creo el archivo con etiquetas\")\n",
        "\n",
        "#print(timeit(\"'Hello, world!'.replace('Hello', 'Goodbye')\"))"
      ],
      "execution_count": null,
      "outputs": [
        {
          "output_type": "stream",
          "text": [
            "Tiempo de ejecucion:  0.01618665299974964\n",
            "Se creo el archivo con etiquetas\n"
          ],
          "name": "stdout"
        },
        {
          "output_type": "display_data",
          "data": {
            "image/png": "[encoded data removed]",
            "text/plain": [
              "<Figure size 432x288 with 2 Axes>"
            ]
          },
          "metadata": {
            "tags": [],
            "needs_background": "light"
          }
        }
      ]
    },
    {
      "cell_type": "code",
      "metadata": {
        "id": "hnIXXpikxwbr",
        "colab_type": "code",
        "colab": {}
      },
      "source": [
        ""
      ],
      "execution_count": null,
      "outputs": []
    }
  ]
}